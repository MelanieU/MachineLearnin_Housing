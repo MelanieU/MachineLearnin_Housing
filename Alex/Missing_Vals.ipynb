{
 "cells": [
  {
   "cell_type": "code",
   "execution_count": 1,
   "metadata": {},
   "outputs": [],
   "source": [
    "import pandas as pd\n",
    "import numpy as np\n",
    "import matplotlib.pyplot as plt\n",
    "import matplotlib as matplot\n",
    "import seaborn as sns\n",
    "%matplotlib inline\n"
   ]
  },
  {
   "cell_type": "code",
   "execution_count": 31,
   "metadata": {},
   "outputs": [],
   "source": [
    "train_df = pd.read_csv('../alexromero/Bootcamp/ML Project/train.csv')\n",
    "test_df = pd.read_csv('../alexromero/Bootcamp/ML Project/test.csv')"
   ]
  },
  {
   "cell_type": "code",
   "execution_count": 32,
   "metadata": {},
   "outputs": [],
   "source": [
    "# Save the 'Id' column\n",
    "train_ID = train_df['Id']\n",
    "test_ID = test_df['Id']\n",
    "\n",
    "# Now drop the 'Id' colum since we can not use it as a feature to train our model.\n",
    "train_df.drop(\"Id\", axis = 1, inplace = True)\n",
    "test_df.drop(\"Id\", axis = 1, inplace = True)"
   ]
  },
  {
   "cell_type": "code",
   "execution_count": 33,
   "metadata": {},
   "outputs": [],
   "source": [
    "y_train = train_df['SalePrice']\n",
    "X_train = train_df.drop('SalePrice', axis=1)\n",
    "X_test = test_df.copy()"
   ]
  },
  {
   "cell_type": "code",
   "execution_count": 35,
   "metadata": {},
   "outputs": [
    {
     "name": "stdout",
     "output_type": "stream",
     "text": [
      "(1460, 79)\n",
      "(1459, 79)\n"
     ]
    }
   ],
   "source": [
    "print(X_train.shape)\n",
    "print(X_test.shape)"
   ]
  },
  {
   "cell_type": "code",
   "execution_count": 36,
   "metadata": {},
   "outputs": [
    {
     "data": {
      "text/plain": [
       "(2919, 79)"
      ]
     },
     "execution_count": 36,
     "metadata": {},
     "output_type": "execute_result"
    }
   ],
   "source": [
    "all_data = pd.concat([X_train, X_test], ignore_index=True)\n",
    "all_data.shape"
   ]
  },
  {
   "cell_type": "code",
   "execution_count": 37,
   "metadata": {},
   "outputs": [
    {
     "data": {
      "text/plain": [
       "(2919, 79)"
      ]
     },
     "execution_count": 37,
     "metadata": {},
     "output_type": "execute_result"
    }
   ],
   "source": [
    "all_data.shape"
   ]
  },
  {
   "cell_type": "code",
   "execution_count": 67,
   "metadata": {},
   "outputs": [],
   "source": [
    "#x = all_data.select_dtypes(include=['object']).fillna('unavailable')"
   ]
  },
  {
   "cell_type": "code",
   "execution_count": 96,
   "metadata": {},
   "outputs": [],
   "source": [
    "for c in all_data.columns:\n",
    "    if all_data[c].dtype == 'object':\n",
    "        all_data[c] = all_data[c].fillna('Unavailable')\n",
    "    else:\n",
    "        all_data[c] = all_data[c].fillna(0)"
   ]
  },
  {
   "cell_type": "code",
   "execution_count": 103,
   "metadata": {},
   "outputs": [],
   "source": [
    "labels1, levels1= pd.factorize(all_data.OverallQual)"
   ]
  },
  {
   "cell_type": "code",
   "execution_count": 105,
   "metadata": {},
   "outputs": [],
   "source": [
    "x = pd.factorize(all_data.OverallQual)"
   ]
  },
  {
   "cell_type": "code",
   "execution_count": 115,
   "metadata": {},
   "outputs": [],
   "source": [
    "quals = all_data.OverallQual"
   ]
  },
  {
   "cell_type": "code",
   "execution_count": 117,
   "metadata": {
    "scrolled": true
   },
   "outputs": [
    {
     "data": {
      "text/plain": [
       "Int64Index([1, 2, 3, 4, 5, 6, 7, 8, 9, 10], dtype='int64')"
      ]
     },
     "execution_count": 117,
     "metadata": {},
     "output_type": "execute_result"
    }
   ],
   "source": [
    "quals = quals.astype('category')\n",
    "quals.cat.categories"
   ]
  },
  {
   "cell_type": "code",
   "execution_count": null,
   "metadata": {},
   "outputs": [],
   "source": [
    "MSSubClass\n",
    "OverallQual\n",
    "\n",
    "OverallCond\n",
    "GarageCars\n",
    "YrSold"
   ]
  },
  {
   "cell_type": "code",
   "execution_count": 134,
   "metadata": {},
   "outputs": [],
   "source": [
    "cats = ['MSSubClass', 'OverallQual', 'OverallCond', 'GarageCars', 'YrSold']"
   ]
  },
  {
   "cell_type": "code",
   "execution_count": 135,
   "metadata": {},
   "outputs": [],
   "source": [
    "for i in cats:\n",
    "    all_data[i] = all_data[i].astype('category')"
   ]
  },
  {
   "cell_type": "code",
   "execution_count": 138,
   "metadata": {},
   "outputs": [
    {
     "data": {
      "text/plain": [
       "MSSubClass       category\n",
       "MSZoning           object\n",
       "LotFrontage       float64\n",
       "LotArea             int64\n",
       "Street             object\n",
       "Alley              object\n",
       "LotShape           object\n",
       "LandContour        object\n",
       "Utilities          object\n",
       "LotConfig          object\n",
       "LandSlope          object\n",
       "Neighborhood       object\n",
       "Condition1         object\n",
       "Condition2         object\n",
       "BldgType           object\n",
       "HouseStyle         object\n",
       "OverallQual      category\n",
       "OverallCond      category\n",
       "YearBuilt           int64\n",
       "YearRemodAdd        int64\n",
       "RoofStyle          object\n",
       "RoofMatl           object\n",
       "Exterior1st        object\n",
       "Exterior2nd        object\n",
       "MasVnrType         object\n",
       "MasVnrArea        float64\n",
       "ExterQual          object\n",
       "ExterCond          object\n",
       "Foundation         object\n",
       "BsmtQual           object\n",
       "                   ...   \n",
       "HalfBath            int64\n",
       "BedroomAbvGr        int64\n",
       "KitchenAbvGr        int64\n",
       "KitchenQual        object\n",
       "TotRmsAbvGrd        int64\n",
       "Functional         object\n",
       "Fireplaces          int64\n",
       "FireplaceQu        object\n",
       "GarageType         object\n",
       "GarageYrBlt       float64\n",
       "GarageFinish       object\n",
       "GarageCars       category\n",
       "GarageArea        float64\n",
       "GarageQual         object\n",
       "GarageCond         object\n",
       "PavedDrive         object\n",
       "WoodDeckSF          int64\n",
       "OpenPorchSF         int64\n",
       "EnclosedPorch       int64\n",
       "3SsnPorch           int64\n",
       "ScreenPorch         int64\n",
       "PoolArea            int64\n",
       "PoolQC             object\n",
       "Fence              object\n",
       "MiscFeature        object\n",
       "MiscVal             int64\n",
       "MoSold              int64\n",
       "YrSold           category\n",
       "SaleType           object\n",
       "SaleCondition      object\n",
       "Length: 79, dtype: object"
      ]
     },
     "execution_count": 138,
     "metadata": {},
     "output_type": "execute_result"
    }
   ],
   "source": [
    "all_data.dtypes"
   ]
  },
  {
   "cell_type": "code",
   "execution_count": 160,
   "metadata": {},
   "outputs": [],
   "source": [
    "all_data['Fireplaces'] = np.where(all_data['Fireplaces'] == 0, 'No', 'Yes')\n",
    "\n",
    "all_data.Fireplaces.value_counts()"
   ]
  },
  {
   "cell_type": "code",
   "execution_count": 167,
   "metadata": {},
   "outputs": [],
   "source": [
    "all_data.to_csv('all_data.csv')"
   ]
  },
  {
   "cell_type": "code",
   "execution_count": 168,
   "metadata": {},
   "outputs": [
    {
     "data": {
      "text/plain": [
       "No     2906\n",
       "Yes      13\n",
       "Name: PoolArea, dtype: int64"
      ]
     },
     "execution_count": 168,
     "metadata": {},
     "output_type": "execute_result"
    }
   ],
   "source": [
    "all_data['PoolArea'] = np.where(all_data['PoolArea'] == 0, 'No', 'Yes')\n",
    "\n",
    "all_data.PoolArea.value_counts()"
   ]
  },
  {
   "cell_type": "code",
   "execution_count": 169,
   "metadata": {},
   "outputs": [],
   "source": [
    "all_data['TotalSF'] = all_data['TotalBsmtSF'] + all_data['1stFlrSF'] + all_data['2ndFlrSF']"
   ]
  },
  {
   "cell_type": "code",
   "execution_count": 177,
   "metadata": {},
   "outputs": [],
   "source": [
    "all_data.drop(['TotalBsmtSF', '1stFlrSF', '2ndFlrSF'], inplace=True, axis=1)"
   ]
  },
  {
   "cell_type": "code",
   "execution_count": 178,
   "metadata": {},
   "outputs": [],
   "source": [
    "all_data['TotalBath'] = all_data['BsmtFullBath'] + all_data['BsmtHalfBath'] + all_data['FullBath'] + all_data['HalfBath']"
   ]
  },
  {
   "cell_type": "code",
   "execution_count": 179,
   "metadata": {},
   "outputs": [],
   "source": [
    "all_data.drop(['BsmtFullBath', 'BsmtHalfBath', 'FullBath', 'HalfBath'], inplace=True, axis=1)"
   ]
  },
  {
   "cell_type": "code",
   "execution_count": 181,
   "metadata": {},
   "outputs": [
    {
     "data": {
      "text/plain": [
       "2.0    1174\n",
       "3.0     925\n",
       "1.0     443\n",
       "4.0     346\n",
       "5.0      22\n",
       "6.0       6\n",
       "8.0       3\n",
       "Name: TotalBath, dtype: int64"
      ]
     },
     "execution_count": 181,
     "metadata": {},
     "output_type": "execute_result"
    }
   ],
   "source": [
    "all_data.TotalBath.value_counts()"
   ]
  },
  {
   "cell_type": "code",
   "execution_count": 187,
   "metadata": {},
   "outputs": [],
   "source": [
    "all_data['TotalPorchSF'] = all_data['WoodDeckSF'] + all_data['OpenPorchSF'] + all_data['EnclosedPorch']  + all_data['3SsnPorch'] + all_data['ScreenPorch']\n",
    "all_data.drop(['WoodDeckSF','OpenPorchSF','EnclosedPorch','3SsnPorch','ScreenPorch'], inplace=True, axis=1)"
   ]
  },
  {
   "cell_type": "code",
   "execution_count": 188,
   "metadata": {},
   "outputs": [
    {
     "data": {
      "text/plain": [
       "0       482\n",
       "40       30\n",
       "192      30\n",
       "120      30\n",
       "168      28\n",
       "140      26\n",
       "240      23\n",
       "100      21\n",
       "112      20\n",
       "32       20\n",
       "144      19\n",
       "96       19\n",
       "48       18\n",
       "116      18\n",
       "160      17\n",
       "180      17\n",
       "28       17\n",
       "36       17\n",
       "60       16\n",
       "280      14\n",
       "204      14\n",
       "228      14\n",
       "224      14\n",
       "50       14\n",
       "164      13\n",
       "163      13\n",
       "64       13\n",
       "45       13\n",
       "90       13\n",
       "216      13\n",
       "       ... \n",
       "654       1\n",
       "258       1\n",
       "223       1\n",
       "283       1\n",
       "285       1\n",
       "331       1\n",
       "339       1\n",
       "351       1\n",
       "51        1\n",
       "41        1\n",
       "354       1\n",
       "19        1\n",
       "780       1\n",
       "796       1\n",
       "412       1\n",
       "406       1\n",
       "398       1\n",
       "804       1\n",
       "822       1\n",
       "832       1\n",
       "846       1\n",
       "850       1\n",
       "982       1\n",
       "380       1\n",
       "1010      1\n",
       "1030      1\n",
       "1166      1\n",
       "1424      1\n",
       "11        1\n",
       "1207      1\n",
       "Name: TotalPorchSF, Length: 535, dtype: int64"
      ]
     },
     "execution_count": 188,
     "metadata": {},
     "output_type": "execute_result"
    }
   ],
   "source": [
    "all_data.TotalPorchSF.value_counts()"
   ]
  },
  {
   "cell_type": "code",
   "execution_count": 192,
   "metadata": {},
   "outputs": [
    {
     "data": {
      "text/plain": [
       "array(['Typ', 'Min1', 'Maj1', 'Min2', 'Mod', 'Maj2', 'Sev', 'Unavailable'], dtype=object)"
      ]
     },
     "execution_count": 192,
     "metadata": {},
     "output_type": "execute_result"
    }
   ],
   "source": [
    "all_data.Functional.unique()"
   ]
  },
  {
   "cell_type": "code",
   "execution_count": null,
   "metadata": {},
   "outputs": [],
   "source": []
  }
 ],
 "metadata": {
  "kernelspec": {
   "display_name": "Python 3",
   "language": "python",
   "name": "python3"
  },
  "language_info": {
   "codemirror_mode": {
    "name": "ipython",
    "version": 3
   },
   "file_extension": ".py",
   "mimetype": "text/x-python",
   "name": "python",
   "nbconvert_exporter": "python",
   "pygments_lexer": "ipython3",
   "version": "3.6.3"
  }
 },
 "nbformat": 4,
 "nbformat_minor": 2
}
