{
 "cells": [
  {
   "cell_type": "markdown",
   "metadata": {},
   "source": [
    "# Linear regression"
   ]
  },
  {
   "cell_type": "code",
   "execution_count": null,
   "metadata": {},
   "outputs": [],
   "source": [
    "#Import other necessary libraries like pandas, numpy...\n",
    "from sklearn import linear_model\n",
    "\n",
    "#Load Train and Test datasets\n",
    "#Identify feature and response variable(s) and values must be numeric and numpy arrays\n",
    "x_train=input_variables_values_training_datasets\n",
    "y_train=target_variables_values_training_datasets\n",
    "x_test=input_variables_values_test_datasets\n",
    "\n",
    "# Create linear regression object\n",
    "linear = linear_model.LinearRegression()\n",
    "\n",
    "# Train the model using the training sets and check score\n",
    "# x_train is array, y_train is column vector\n",
    "linear.fit(x_train, y_train)\n",
    "linear.score(x_train, y_train)\n",
    "\n",
    "#Equation coefficient and Intercept\n",
    "print('Coefficient: \\n', linear.coef_)\n",
    "print('Intercept: \\n', linear.intercept_)\n",
    "\n",
    "#Predict Output\n",
    "predicted= linear.predict(x_test)"
   ]
  },
  {
   "cell_type": "markdown",
   "metadata": {},
   "source": [
    "# Logistic regression"
   ]
  },
  {
   "cell_type": "code",
   "execution_count": null,
   "metadata": {},
   "outputs": [],
   "source": [
    "#probability of event occurrence / probability of not event occurrence\n",
    "odds= p/ (1-p) \n",
    "\n",
    "#log odds\n",
    "ln(odds) = ln(p/(1-p))\n",
    "\n",
    "logit(p) = ln(p/(1-p)) = b0+b1X1+b2X2+b3X3....+bkXk"
   ]
  },
  {
   "cell_type": "code",
   "execution_count": null,
   "metadata": {},
   "outputs": [],
   "source": [
    "#Import Library\n",
    "from sklearn.linear_model import LogisticRegression\n",
    "\n",
    "#Assumed you have X (predictor) and Y (target) for training data set and x_test(predictor) of test_dataset\n",
    "#Create logistic regression object\n",
    "model = LogisticRegression()\n",
    "\n",
    "#view parameters\n",
    "model.get_params()\n",
    "\n",
    "# Train the model using the training sets and check score\n",
    "model.fit(X, y)\n",
    "model.score(X, y)\n",
    "\n",
    "#Equation coefficient and Intercept\n",
    "print('Coefficient: \\n', model.coef_)\n",
    "print('Intercept: \\n', model.intercept_)\n",
    "#Predict Output\n",
    "predicted= model.predict(x_test)\n",
    "predicted_prob = model.predict_proba(x_test)"
   ]
  },
  {
   "cell_type": "markdown",
   "metadata": {},
   "source": [
    "There are many different steps that could be tried in order to improve the model:\n",
    "\n",
    "- including interaction terms\n",
    "- removing features\n",
    "- regularization techniques\n",
    "- using a non-linear model"
   ]
  },
  {
   "cell_type": "markdown",
   "metadata": {},
   "source": [
    "# Decision Trees"
   ]
  },
  {
   "cell_type": "code",
   "execution_count": null,
   "metadata": {},
   "outputs": [],
   "source": [
    "#Import other necessary libraries like pandas, numpy...\n",
    "from sklearn import tree\n",
    "\n",
    "#Assumed you have X (predictor) and Y (target) for training data set and x_test(predictor) of test_dataset\n",
    "#Create tree object \n",
    "#for classification, here you can change the algorithm as gini or entropy (information gain) (default = gini) \n",
    "model = tree.DecisionTreeClassifier(criterion='gini')  # classification\n",
    "model = tree.DecisionTreeRegressor() for regression    # regression\n",
    "\n",
    "# Train the model using the training sets and check score\n",
    "model.fit(X, y)\n",
    "model.score(X, y)\n",
    "\n",
    "#Predict Output\n",
    "predicted= model.predict(x_test)"
   ]
  },
  {
   "cell_type": "markdown",
   "metadata": {},
   "source": [
    "## Random Forest"
   ]
  },
  {
   "cell_type": "code",
   "execution_count": null,
   "metadata": {},
   "outputs": [],
   "source": [
    "#Import Library\n",
    "from sklearn.ensemble import RandomForestClassifier\n",
    "\n",
    "#Assumed you have X (predictor) and Y (target) for training data set and x_test(predictor) of test_dataset\n",
    "# Create Random Forest object\n",
    "model= RandomForestClassifier()\n",
    "\n",
    "#you can also specify tuning parameters\n",
    "model = RandomForestRegressor(n_estimator = 100, oob_score = TRUE, n_jobs = -1,random_state =50, max_features = \"auto\", min_samples_leaf = 50)\n",
    "\n",
    "# Train the model using the training sets and check score\n",
    "model.fit(X, y)\n",
    "\n",
    "#Predict Output\n",
    "predicted= model.predict(x_test)"
   ]
  },
  {
   "cell_type": "markdown",
   "metadata": {},
   "source": [
    "# Dimensionality Reduction"
   ]
  },
  {
   "cell_type": "code",
   "execution_count": null,
   "metadata": {},
   "outputs": [],
   "source": [
    "#Import Library\n",
    "from sklearn import decomposition\n",
    "\n",
    "#Assumed you have training and test data set as train and test\n",
    "# Create PCA obeject\n",
    "pca= decomposition.PCA(n_components=k) #default value of k =min(n_sample, n_features)\n",
    "\n",
    "#for Factor analysis\n",
    "fa= decomposition.FactorAnalysis()\n",
    "\n",
    "#Reduced the dimension of training dataset using PCA\n",
    "train_reduced = pca.fit_transform(train)\n",
    "\n",
    "#Reduced the dimension of test dataset\n",
    "test_reduced = pca.transform(test)\n"
   ]
  },
  {
   "cell_type": "markdown",
   "metadata": {},
   "source": [
    "# Support Vector Machine"
   ]
  },
  {
   "cell_type": "code",
   "execution_count": null,
   "metadata": {},
   "outputs": [],
   "source": [
    "#Import Library\n",
    "from sklearn import svm\n",
    "\n",
    "#Assumed you have X (predictor) and Y (target) for training data set and x_test(predictor) of test_dataset\n",
    "#Create SVM classification object \n",
    "\n",
    "model = svm.svc() # there is various option associated with it, this is simple for classification\n",
    "\n",
    "#Train the model using the training sets and check score\n",
    "model.fit(X, y)\n",
    "model.score(X, y)\n",
    "\n",
    "#Predict Output\n",
    "predicted= model.predict(x_test)"
   ]
  }
 ],
 "metadata": {
  "kernelspec": {
   "display_name": "Python 3",
   "language": "python",
   "name": "python3"
  },
  "language_info": {
   "codemirror_mode": {
    "name": "ipython",
    "version": 3
   },
   "file_extension": ".py",
   "mimetype": "text/x-python",
   "name": "python",
   "nbconvert_exporter": "python",
   "pygments_lexer": "ipython3",
   "version": "3.6.4"
  }
 },
 "nbformat": 4,
 "nbformat_minor": 2
}
