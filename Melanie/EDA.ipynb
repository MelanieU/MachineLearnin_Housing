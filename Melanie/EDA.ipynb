{
 "cells": [
  {
   "cell_type": "markdown",
   "metadata": {},
   "source": [
    "# EDA Kaggle Competition: Team Integreat"
   ]
  },
  {
   "cell_type": "code",
   "execution_count": 1,
   "metadata": {},
   "outputs": [],
   "source": [
    "import pandas as pd\n",
    "import numpy as np\n",
    "import plotly\n",
    "import plotly.plotly as py\n",
    "from scipy import stats\n",
    "import numpy as np\n",
    "import seaborn as sn\n",
    "import matplotlib.pyplot as plt\n",
    "%matplotlib inline"
   ]
  },
  {
   "cell_type": "markdown",
   "metadata": {},
   "source": [
    "### Loading test and training datasets"
   ]
  },
  {
   "cell_type": "code",
   "execution_count": 2,
   "metadata": {},
   "outputs": [
    {
     "name": "stdout",
     "output_type": "stream",
     "text": [
      "(1459, 80)\n",
      "(1460, 81)\n"
     ]
    }
   ],
   "source": [
    "train = pd.read_csv('train.csv')\n",
    "test = pd.read_csv('test.csv')\n",
    "print(test.shape)\n",
    "print(train.shape)"
   ]
  },
  {
   "cell_type": "markdown",
   "metadata": {},
   "source": [
    "### Combine test and train"
   ]
  },
  {
   "cell_type": "code",
   "execution_count": 3,
   "metadata": {},
   "outputs": [],
   "source": [
    "# Save the 'Id' column\n",
    "train_ID = train['Id']\n",
    "test_ID = test['Id']\n",
    "\n",
    "# Now drop the 'Id' colum since we can not use it as a feature to train our model.\n",
    "train.drop(\"Id\", axis = 1, inplace = True)\n",
    "test.drop(\"Id\", axis = 1, inplace = True)\n",
    "\n",
    "Y_train = train['SalePrice']\n",
    "X_train = train.drop('SalePrice', axis=1)\n",
    "X_test = test.copy()\n",
    "\n",
    "all_data = pd.concat([X_train, X_test], ignore_index=True)"
   ]
  },
  {
   "cell_type": "code",
   "execution_count": 4,
   "metadata": {},
   "outputs": [
    {
     "data": {
      "text/html": [
       "<div>\n",
       "<style scoped>\n",
       "    .dataframe tbody tr th:only-of-type {\n",
       "        vertical-align: middle;\n",
       "    }\n",
       "\n",
       "    .dataframe tbody tr th {\n",
       "        vertical-align: top;\n",
       "    }\n",
       "\n",
       "    .dataframe thead th {\n",
       "        text-align: right;\n",
       "    }\n",
       "</style>\n",
       "<table border=\"1\" class=\"dataframe\">\n",
       "  <thead>\n",
       "    <tr style=\"text-align: right;\">\n",
       "      <th></th>\n",
       "      <th>MSSubClass</th>\n",
       "      <th>MSZoning</th>\n",
       "      <th>LotFrontage</th>\n",
       "      <th>LotArea</th>\n",
       "      <th>Street</th>\n",
       "      <th>Alley</th>\n",
       "      <th>LotShape</th>\n",
       "      <th>LandContour</th>\n",
       "      <th>LotConfig</th>\n",
       "      <th>LandSlope</th>\n",
       "      <th>...</th>\n",
       "      <th>MiscVal</th>\n",
       "      <th>MoSold</th>\n",
       "      <th>YrSold</th>\n",
       "      <th>SaleType</th>\n",
       "      <th>SaleCondition</th>\n",
       "      <th>TotalPorchSF</th>\n",
       "      <th>TotalSF</th>\n",
       "      <th>TotalBath</th>\n",
       "      <th>MSZoning * Neighborhood</th>\n",
       "      <th>BsmtUnfSF / TotalBsmtSF</th>\n",
       "    </tr>\n",
       "  </thead>\n",
       "  <tbody>\n",
       "    <tr>\n",
       "      <th>0</th>\n",
       "      <td>60</td>\n",
       "      <td>RL</td>\n",
       "      <td>65.0</td>\n",
       "      <td>8450</td>\n",
       "      <td>Pave</td>\n",
       "      <td>None</td>\n",
       "      <td>Reg</td>\n",
       "      <td>Lvl</td>\n",
       "      <td>Inside</td>\n",
       "      <td>Gtl</td>\n",
       "      <td>...</td>\n",
       "      <td>0</td>\n",
       "      <td>2</td>\n",
       "      <td>2008</td>\n",
       "      <td>WD</td>\n",
       "      <td>Normal</td>\n",
       "      <td>61</td>\n",
       "      <td>2566.0</td>\n",
       "      <td>4.0</td>\n",
       "      <td>RL*CollgCr</td>\n",
       "      <td>0.175234</td>\n",
       "    </tr>\n",
       "    <tr>\n",
       "      <th>1</th>\n",
       "      <td>20</td>\n",
       "      <td>RL</td>\n",
       "      <td>80.0</td>\n",
       "      <td>9600</td>\n",
       "      <td>Pave</td>\n",
       "      <td>None</td>\n",
       "      <td>Reg</td>\n",
       "      <td>Lvl</td>\n",
       "      <td>FR2</td>\n",
       "      <td>Gtl</td>\n",
       "      <td>...</td>\n",
       "      <td>0</td>\n",
       "      <td>5</td>\n",
       "      <td>2007</td>\n",
       "      <td>WD</td>\n",
       "      <td>Normal</td>\n",
       "      <td>298</td>\n",
       "      <td>2524.0</td>\n",
       "      <td>3.0</td>\n",
       "      <td>RL*Veenker</td>\n",
       "      <td>0.225040</td>\n",
       "    </tr>\n",
       "    <tr>\n",
       "      <th>2</th>\n",
       "      <td>60</td>\n",
       "      <td>RL</td>\n",
       "      <td>68.0</td>\n",
       "      <td>11250</td>\n",
       "      <td>Pave</td>\n",
       "      <td>None</td>\n",
       "      <td>IR1</td>\n",
       "      <td>Lvl</td>\n",
       "      <td>Inside</td>\n",
       "      <td>Gtl</td>\n",
       "      <td>...</td>\n",
       "      <td>0</td>\n",
       "      <td>9</td>\n",
       "      <td>2008</td>\n",
       "      <td>WD</td>\n",
       "      <td>Normal</td>\n",
       "      <td>42</td>\n",
       "      <td>2706.0</td>\n",
       "      <td>4.0</td>\n",
       "      <td>RL*CollgCr</td>\n",
       "      <td>0.471739</td>\n",
       "    </tr>\n",
       "    <tr>\n",
       "      <th>3</th>\n",
       "      <td>70</td>\n",
       "      <td>RL</td>\n",
       "      <td>60.0</td>\n",
       "      <td>9550</td>\n",
       "      <td>Pave</td>\n",
       "      <td>None</td>\n",
       "      <td>IR1</td>\n",
       "      <td>Lvl</td>\n",
       "      <td>Corner</td>\n",
       "      <td>Gtl</td>\n",
       "      <td>...</td>\n",
       "      <td>0</td>\n",
       "      <td>2</td>\n",
       "      <td>2006</td>\n",
       "      <td>WD</td>\n",
       "      <td>Abnorml</td>\n",
       "      <td>307</td>\n",
       "      <td>2473.0</td>\n",
       "      <td>2.0</td>\n",
       "      <td>RL*Crawfor</td>\n",
       "      <td>0.714286</td>\n",
       "    </tr>\n",
       "    <tr>\n",
       "      <th>4</th>\n",
       "      <td>60</td>\n",
       "      <td>RL</td>\n",
       "      <td>84.0</td>\n",
       "      <td>14260</td>\n",
       "      <td>Pave</td>\n",
       "      <td>None</td>\n",
       "      <td>IR1</td>\n",
       "      <td>Lvl</td>\n",
       "      <td>FR2</td>\n",
       "      <td>Gtl</td>\n",
       "      <td>...</td>\n",
       "      <td>0</td>\n",
       "      <td>12</td>\n",
       "      <td>2008</td>\n",
       "      <td>WD</td>\n",
       "      <td>Normal</td>\n",
       "      <td>276</td>\n",
       "      <td>3343.0</td>\n",
       "      <td>4.0</td>\n",
       "      <td>RL*NoRidge</td>\n",
       "      <td>0.427948</td>\n",
       "    </tr>\n",
       "  </tbody>\n",
       "</table>\n",
       "<p>5 rows × 83 columns</p>\n",
       "</div>"
      ],
      "text/plain": [
       "  MSSubClass MSZoning  LotFrontage  LotArea Street Alley LotShape LandContour  \\\n",
       "0         60       RL         65.0     8450   Pave  None      Reg         Lvl   \n",
       "1         20       RL         80.0     9600   Pave  None      Reg         Lvl   \n",
       "2         60       RL         68.0    11250   Pave  None      IR1         Lvl   \n",
       "3         70       RL         60.0     9550   Pave  None      IR1         Lvl   \n",
       "4         60       RL         84.0    14260   Pave  None      IR1         Lvl   \n",
       "\n",
       "  LotConfig LandSlope           ...           MiscVal MoSold YrSold SaleType  \\\n",
       "0    Inside       Gtl           ...                 0      2   2008       WD   \n",
       "1       FR2       Gtl           ...                 0      5   2007       WD   \n",
       "2    Inside       Gtl           ...                 0      9   2008       WD   \n",
       "3    Corner       Gtl           ...                 0      2   2006       WD   \n",
       "4       FR2       Gtl           ...                 0     12   2008       WD   \n",
       "\n",
       "  SaleCondition  TotalPorchSF TotalSF  TotalBath  MSZoning * Neighborhood  \\\n",
       "0        Normal            61  2566.0        4.0               RL*CollgCr   \n",
       "1        Normal           298  2524.0        3.0               RL*Veenker   \n",
       "2        Normal            42  2706.0        4.0               RL*CollgCr   \n",
       "3       Abnorml           307  2473.0        2.0               RL*Crawfor   \n",
       "4        Normal           276  3343.0        4.0               RL*NoRidge   \n",
       "\n",
       "  BsmtUnfSF / TotalBsmtSF  \n",
       "0                0.175234  \n",
       "1                0.225040  \n",
       "2                0.471739  \n",
       "3                0.714286  \n",
       "4                0.427948  \n",
       "\n",
       "[5 rows x 83 columns]"
      ]
     },
     "execution_count": 4,
     "metadata": {},
     "output_type": "execute_result"
    }
   ],
   "source": [
    "from preprocess import impute, Encoder, Skewness\n",
    "\n",
    "all_data = impute(all_data)\n",
    "all_data = Encoder(all_data)\n",
    "all_data = Skewness(all_data)"
   ]
  },
  {
   "cell_type": "markdown",
   "metadata": {},
   "source": [
    "## Combine datasets"
   ]
  },
  {
   "cell_type": "code",
   "execution_count": null,
   "metadata": {},
   "outputs": [],
   "source": [
    "trainset = len(X_train)\n",
    "X_train_preprocessed = all_data[:trainset]\n",
    "X_test_preprocessed = all_data[trainset:]"
   ]
  },
  {
   "cell_type": "markdown",
   "metadata": {},
   "source": [
    "## ML models"
   ]
  },
  {
   "cell_type": "code",
   "execution_count": null,
   "metadata": {},
   "outputs": [],
   "source": [
    "from sklearn.linear_model import LinearRegression\n",
    "linear = LinearRegression()\n",
    "\n",
    "linear.fit(X_train_preprocessed, Y_train)\n",
    "linear.score(X_train_preprocessed, Y_train)\n",
    "\n",
    "pred = linear.predict(X_test_preprocessed)\n",
    "\n",
    "submission = pd.DataFrame({'Id': test_ID, 'SalePrice': pred})\n",
    "submission.to_csv('linear_no1.csv', index=False)"
   ]
  },
  {
   "cell_type": "code",
   "execution_count": null,
   "metadata": {},
   "outputs": [],
   "source": [
    "from sklearn.linear_model import ElasticNet\n",
    "elastic = ElasticNet(alpha = 1, l1_ratio = 0.5)\n",
    "elastic.fit(X_train_preprocessed, Y_train)\n",
    "pred = elastic.predict(X_test_preprocessed)\n",
    "\n",
    "submission = pd.DataFrame({'Id': test_ID, 'SalePrice': pred})\n",
    "\n",
    "submission.to_csv('elastic_no1.csv', index=False)\n",
    "\n",
    "elastic.score(X_train_preprocessed, Y_train)\n",
    "\n",
    "elastic."
   ]
  },
  {
   "cell_type": "code",
   "execution_count": null,
   "metadata": {},
   "outputs": [],
   "source": [
    "from sklearn.tree import DecisionTreeRegressor\n",
    "\n",
    "tree = DecisionTreeRegressor()\n",
    "tree.fit(X_train_preprocessed, Y_train)\n",
    "tree.score(X_train_preprocessed, Y_train)\n",
    "\n",
    "pred = tree.predict(X_test_preprocessed)\n",
    "\n",
    "submission = pd.DataFrame({'Id': test_ID, 'SalePrice':pred})\n",
    "submission.to_csv('tree.csv', index=False)"
   ]
  },
  {
   "cell_type": "code",
   "execution_count": null,
   "metadata": {},
   "outputs": [],
   "source": [
    "from sklearn.feature_selection import SelectFromModel\n",
    "from sklearn.pipeline import make_pipeline\n",
    "\n",
    "pipe_tree = make_pipeline(SelectFromModel(elastic, prefit=False, threshold=None),\n",
    "                        DecisionTreeRegressor())\n",
    "pipe_tree.fit(X_train_preprocessed, Y_train)\n",
    "pred = pipe_tree.predict(X_test_preprocessed)\n",
    "\n",
    "submission = pd.DataFrame({'Id': test_ID, 'SalePrice':pred})\n",
    "submission.to_csv('elastic_tree.csv', index=False)\n",
    "\n",
    "pipe_tree.score(X_train_preprocessed, Y_train)"
   ]
  },
  {
   "cell_type": "code",
   "execution_count": null,
   "metadata": {},
   "outputs": [],
   "source": [
    "from sklearn import svm\n",
    "svm = svm.SVR(kernel='linear')\n",
    "svm.fit(X_train_preprocessed, Y_train) \n",
    "\n",
    "pred = svm.predict(X_test_preprocessed)\n",
    "\n",
    "submission = pd.DataFrame({'Id': test_ID, 'SalePrice':pred})\n",
    "submission.to_csv('svm_no1.csv', index=False)"
   ]
  },
  {
   "cell_type": "code",
   "execution_count": null,
   "metadata": {},
   "outputs": [],
   "source": []
  },
  {
   "cell_type": "code",
   "execution_count": null,
   "metadata": {},
   "outputs": [],
   "source": []
  },
  {
   "cell_type": "code",
   "execution_count": null,
   "metadata": {},
   "outputs": [],
   "source": []
  },
  {
   "cell_type": "code",
   "execution_count": null,
   "metadata": {},
   "outputs": [],
   "source": []
  },
  {
   "cell_type": "code",
   "execution_count": null,
   "metadata": {},
   "outputs": [],
   "source": []
  },
  {
   "cell_type": "code",
   "execution_count": null,
   "metadata": {},
   "outputs": [],
   "source": []
  },
  {
   "cell_type": "code",
   "execution_count": null,
   "metadata": {},
   "outputs": [],
   "source": []
  },
  {
   "cell_type": "code",
   "execution_count": null,
   "metadata": {},
   "outputs": [],
   "source": []
  },
  {
   "cell_type": "code",
   "execution_count": null,
   "metadata": {},
   "outputs": [],
   "source": [
    "plt.rcParams['figure.figsize'] = (20, 20)\n",
    "skewed_feat_vals.plot(kind = \"barh\")\n",
    "plt.title(\"Skewness of the Continuous Numerical Features in the Data\")\n",
    "plt.show()"
   ]
  },
  {
   "cell_type": "code",
   "execution_count": null,
   "metadata": {},
   "outputs": [],
   "source": [
    "# from sklearn.preprocessing import StandardScaler\n",
    "columns_transform = ['LotFrontage','LotArea','MasVnrArea','BsmtFinSF1','BsmtFinSF2','BsmtUnfSF','LowQualFinSF','GrLivArea','GarageArea','PoolArea']\n",
    "X_train_std = X_train_preprocessed.copy()\n",
    "X_test_std = X_test_preprocessed.copy()\n",
    "\n",
    "std = StandardScaler()\n",
    "\n",
    "X_train_std.loc[:,columns_transform] = std.fit_transform(X_train_preprocessed.loc[:,columns_transform])\n",
    "X_test_std.loc[:,columns_transform] = std.transform(X_test_preprocessed.loc[:,columns_transform])\n",
    "\n",
    "print(X_train_std.shape)\n",
    "print(X_test_std.shape)"
   ]
  },
  {
   "cell_type": "code",
   "execution_count": null,
   "metadata": {},
   "outputs": [],
   "source": [
    "# import RandomForestClassifier\n",
    "from sklearn.ensemble import RandomForestClassifier\n",
    "\n",
    "feat_labels = X_train_std.columns[0:]\n",
    "\n",
    "forest = RandomForestClassifier(n_estimators = 500, random_state=1)\n",
    "forest.fit(X_train_std, Y_train)"
   ]
  },
  {
   "cell_type": "code",
   "execution_count": null,
   "metadata": {},
   "outputs": [],
   "source": [
    "#save values of importance and indices of the columns\n",
    "importances = forest.feature_importances_\n",
    "indices = np.argsort(importances)\n",
    "indices"
   ]
  },
  {
   "cell_type": "code",
   "execution_count": null,
   "metadata": {},
   "outputs": [],
   "source": [
    "# print the columns and importance\n",
    "for feature in range(X_train_std.shape[1]):\n",
    "    print(\"%2d) %-*s %feature\" % (feature + 1, 30, feat_labels[indices[feature]],\n",
    "                                 importances[indices[feature]]))"
   ]
  },
  {
   "cell_type": "code",
   "execution_count": null,
   "metadata": {},
   "outputs": [],
   "source": [
    "#visualize result with all columns\n",
    "from matplotlib import cm\n",
    "color = cm.inferno_r(np.linspace(.4,.8, 69))\n",
    "\n",
    "plt.figure(figsize=(20,20))\n",
    "plt.title('Feature Importance')\n",
    "\n",
    "x = plt.barh(range(X_train_std.shape[1]), importances[indices], align='center', color=color)\n",
    "x = plt.yticks(range(X_train_std.shape[1]), feat_labels, rotation = 0, size=12)\n",
    "x = plt.ylim([-1, X_train_std.shape[1]])"
   ]
  },
  {
   "cell_type": "code",
   "execution_count": null,
   "metadata": {},
   "outputs": [],
   "source": [
    "# set threshold as mean to pick features\n",
    "from sklearn.feature_selection import SelectFromModel\n",
    "importances2 = forest.feature_importances_\n",
    "indices2 = np.argsort(importances2)[::-1]\n",
    "\n",
    "sfm = SelectFromModel(forest, prefit=True, threshold=None)\n",
    "X_selected = sfm.transform(X_train_std)\n",
    "\n",
    "\n",
    "for feature in range(X_selected.shape[1]):\n",
    "    print(\"%2d) %-*s %f\" % (feature + 1, 30, feat_labels[indices2[feature]],\n",
    "                                 importances2[indices2[feature]]))\n",
    "    \n",
    "#plt.figure(figsize=(20,20))\n",
    "#plt.title('Feature Importance')\n",
    "\n",
    "#x = plt.barh(range(X_selected.shape[1]), importances[indices], align='center', color=color)\n",
    "#x = plt.yticks(range(X_selected.shape[1]), feat_labels, rotation = 0, size=15)\n"
   ]
  },
  {
   "cell_type": "code",
   "execution_count": null,
   "metadata": {},
   "outputs": [],
   "source": [
    "from sklearn.neighbors import KNeighborsClassifier\n",
    "from math import sqrt\n",
    "#Assumed you have, X (predictor) and Y (target) for training data set and x_test(predictor) of test_dataset\n",
    "# Create KNeighbors classifier object model \n",
    "\n",
    "model = KNeighborsClassifier(n_neighbors = 38) # default value for n_neighbors is 5\n",
    "# Train the model using the training sets and check score\n",
    "\n",
    "model.fit(X_train_std, Y_train)\n",
    "model.score(X_train_std, Y_train)\n",
    "#Predict Output\n",
    "#predicted= model.predict(x_test)"
   ]
  },
  {
   "cell_type": "markdown",
   "metadata": {},
   "source": [
    "### Scatterplot for selected numerical columns"
   ]
  },
  {
   "cell_type": "code",
   "execution_count": null,
   "metadata": {},
   "outputs": [],
   "source": [
    "# investigate relationships\n",
    "train.describe().columns\n",
    "cols = ['LotArea','OverallQual','OverallCond','TotalBsmtSF','GarageArea', 'SalePrice']\n",
    "sns.pairplot(train[cols], size=2)\n",
    "\n",
    "#SalePrice right-skewed - log or box cox transformation\n",
    "#TotalBsmtSF and GarageArea normally distributed\n",
    "\n",
    "#Correlations SalePrice: TotalBsmtSF, GaraArea, OverallQual\n",
    "#Multicollinearity: OverallQual and TotalBsmtSF, TotalBsmtSF and GarageArea"
   ]
  },
  {
   "cell_type": "code",
   "execution_count": null,
   "metadata": {},
   "outputs": [],
   "source": [
    "cor = np.corrcoef(train[cols].values.T)\n",
    "sns.set(font_scale=1.5)\n",
    "heat = sns.heatmap(cor, cbar=True,\n",
    "                  annot=True,\n",
    "                  square=True,\n",
    "                  fmt='.2f',\n",
    "                  annot_kws={'size':15},\n",
    "                  yticklabels=cols,\n",
    "                  xticklabels=cols)\n",
    "\n",
    "#SalePrice correlate with: GarageArea, TotalSF"
   ]
  }
 ],
 "metadata": {
  "kernelspec": {
   "display_name": "Python 3",
   "language": "python",
   "name": "python3"
  },
  "language_info": {
   "codemirror_mode": {
    "name": "ipython",
    "version": 3
   },
   "file_extension": ".py",
   "mimetype": "text/x-python",
   "name": "python",
   "nbconvert_exporter": "python",
   "pygments_lexer": "ipython3",
   "version": "3.6.4"
  }
 },
 "nbformat": 4,
 "nbformat_minor": 2
}
