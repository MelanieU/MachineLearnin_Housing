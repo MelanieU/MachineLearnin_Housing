{
 "cells": [
  {
   "cell_type": "markdown",
   "metadata": {},
   "source": [
    "### Feature Engineering of the locations with data from ESRI - Demographics"
   ]
  },
  {
   "cell_type": "markdown",
   "metadata": {},
   "source": [
    "Importing the data and shapefile"
   ]
  },
  {
   "cell_type": "code",
   "execution_count": 78,
   "metadata": {},
   "outputs": [
    {
     "data": {
      "text/plain": [
       "(1460, 81)"
      ]
     },
     "execution_count": 78,
     "metadata": {},
     "output_type": "execute_result"
    }
   ],
   "source": [
    "#CSV datasets of interest\n",
    "\n",
    "import pandas as pd\n",
    "\n",
    "train =pd.read_csv('train.csv')\n",
    "test = pd.read_csv('test.csv')\n",
    "\n",
    "train.shape"
   ]
  },
  {
   "cell_type": "code",
   "execution_count": 79,
   "metadata": {},
   "outputs": [
    {
     "data": {
      "text/html": [
       "<div class=\"item_container\" style=\"height: auto; overflow: hidden; border: 1px solid #cfcfcf; border-radius: 2px; background: #f6fafa; line-height: 1.21429em; padding: 10px;\">\n",
       "                    <div class=\"item_left\" style=\"width: 210px; float: left;\">\n",
       "                       <a href='http://JLLesp.maps.arcgis.com/home/item.html?id=fe6059b7e4c74de9bc419389320c4842' target='_blank'>\n",
       "                        <img src='data:image/png;base64,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' width='200' height='133' class=\"itemThumbnail\">\n",
       "                       </a>\n",
       "                    </div>\n",
       "\n",
       "                    <div class=\"item_right\"     style=\"float: none; width: auto; overflow: hidden;\">\n",
       "                        <a href='http://JLLesp.maps.arcgis.com/home/item.html?id=fe6059b7e4c74de9bc419389320c4842' target='_blank'><b>AMES</b>\n",
       "                        </a>\n",
       "                        <br/>AMES<img src='http://JLLesp.maps.arcgis.com/home/js/jsapi/esri/css/images/item_type_icons/featureshosted16.png' style=\"vertical-align:middle;\">Feature Layer Collection by nacho.moreno_JLLesp\n",
       "                        <br/>Last Modified: August 13, 2018\n",
       "                        <br/>0 comments, 0 views\n",
       "                    </div>\n",
       "                </div>\n",
       "                "
      ],
      "text/plain": [
       "<Item title:\"AMES\" type:Feature Layer Collection owner:nacho.moreno_JLLesp>"
      ]
     },
     "execution_count": 79,
     "metadata": {},
     "output_type": "execute_result"
    }
   ],
   "source": [
    "#Shapefile of interest we will enrich\n",
    "\n",
    "#We will enrich the dataset\n",
    "\n",
    "from arcgis.gis import GIS\n",
    "from IPython.display import display\n",
    "from arcgis.geoenrichment import *\n",
    "\n",
    "gis = GIS(\"LINK\", \"PWD\", \"USER\")\n",
    "\n",
    "#We search for the layer\n",
    "\n",
    "search_results = gis.content.search('title:AMES', 'Feature Layer')\n",
    "\n",
    "AMES_neighborhoods = search_results[1]\n",
    "\n",
    "AMES_neighborhoods\n",
    "\n"
   ]
  },
  {
   "cell_type": "markdown",
   "metadata": {},
   "source": [
    "Create a simple map to visualize the data"
   ]
  },
  {
   "cell_type": "code",
   "execution_count": 81,
   "metadata": {},
   "outputs": [
    {
     "data": {
      "application/vnd.jupyter.widget-view+json": {
       "model_id": "a847339d9df64e8cbf239ee58a9b7850",
       "version_major": 2,
       "version_minor": 0
      },
      "text/html": [
       "<p>Failed to display Jupyter Widget of type <code>MapView</code>.</p>\n",
       "<p>\n",
       "  If you're reading this message in the Jupyter Notebook or JupyterLab Notebook, it may mean\n",
       "  that the widgets JavaScript is still loading. If this message persists, it\n",
       "  likely means that the widgets JavaScript library is either not installed or\n",
       "  not enabled. See the <a href=\"https://ipywidgets.readthedocs.io/en/stable/user_install.html\">Jupyter\n",
       "  Widgets Documentation</a> for setup instructions.\n",
       "</p>\n",
       "<p>\n",
       "  If you're reading this message in another frontend (for example, a static\n",
       "  rendering on GitHub or <a href=\"https://nbviewer.jupyter.org/\">NBViewer</a>),\n",
       "  it may mean that your frontend doesn't currently support widgets.\n",
       "</p>\n"
      ],
      "text/plain": [
       "MapView(basemaps=['dark-gray', 'dark-gray-vector', 'gray', 'gray-vector', 'hybrid', 'national-geographic', 'oceans', 'osm', 'satellite', 'streets', 'streets-navigation-vector', 'streets-night-vector', 'streets-relief-vector', 'streets-vector', 'terrain', 'topo', 'topo-vector'], center=[42.019676, -93.624323], zoom=11)"
      ]
     },
     "metadata": {},
     "output_type": "display_data"
    }
   ],
   "source": [
    "AMES_map = gis.map(location =[42.019676, -93.624323], zoomlevel = 11)\n",
    "AMES_map.basemap = 'streets-vector'\n",
    "AMES_map.add_layer(AMES_neighborhoods)\n",
    "\n",
    "AMES_map"
   ]
  },
  {
   "cell_type": "markdown",
   "metadata": {},
   "source": [
    "We investigate which datasets we will be getting"
   ]
  },
  {
   "cell_type": "code",
   "execution_count": null,
   "metadata": {},
   "outputs": [],
   "source": [
    "usa = Country.get('US')\n",
    "usa.properties.datasets\n",
    "\n",
    "datasets_esri = usa.data_collections\n",
    "\n",
    "#These are the datasets we will be using\n",
    "\n",
    "datasets_esri.loc['populationtotals']['analysisVariable'].unique()\n",
    "datasets_esri.loc['lifemodegroupsNEW']['analysisVariable'].unique()\n",
    "datasets_esri.loc['5yearincrements']['analysisVariable'].unique()\n",
    "datasets_esri.loc['householdincome']['analysisVariable'].unique()\n",
    "datasets_esri.loc['businesses']['analysisVariable'].unique()"
   ]
  },
  {
   "cell_type": "markdown",
   "metadata": {},
   "source": [
    "We finally enrich the data"
   ]
  },
  {
   "cell_type": "code",
   "execution_count": 82,
   "metadata": {},
   "outputs": [],
   "source": [
    "from arcgis.features import enrich_data\n",
    "from arcgis.features import FeatureLayerCollection\n",
    "\n",
    "data_collections = ['populationtotals','lifemodegroupsNEW','5yearincrements','householdincome','businesses']\n",
    "\n",
    "analysis_variables= ['S12_BUS', 'S16_BUS', 'S24_BUS','MEDHINC_CY','AVGHINC_CY','PCI_CY','MEDAGE_CY','TLIFECODE','TLIFENAME','TOTPOP_CY']\n",
    "\n",
    "AMES_enriched = enrich_data.enrich_layer(AMES_neighborhoods, buffer_type='StraightLine', distance=1 ,units='Kilometers', \n",
    "                                         data_collections= data_collections, analysis_variables = analysis_variables)\n",
    "\n",
    "#How to transform a feature collection to a df, first we 'query' teh feature collection adn a \n",
    "#Featureset is returned, then we use the df method to transform to a pd dataframe \n",
    "\n",
    "#Documentation here https://esri.github.io/arcgis-python-api/apidoc/html/arcgis.features.toc.html#featurecollection and\n",
    "# here: https://esri.github.io/arcgis-python-api/apidoc/html/arcgis.features.toc.html#featureset\n",
    "\n",
    "AMES_enriched_df = AMES_enriched.query().df"
   ]
  },
  {
   "cell_type": "code",
   "execution_count": 83,
   "metadata": {},
   "outputs": [
    {
     "data": {
      "text/html": [
       "<div>\n",
       "<style scoped>\n",
       "    .dataframe tbody tr th:only-of-type {\n",
       "        vertical-align: middle;\n",
       "    }\n",
       "\n",
       "    .dataframe tbody tr th {\n",
       "        vertical-align: top;\n",
       "    }\n",
       "\n",
       "    .dataframe thead th {\n",
       "        text-align: right;\n",
       "    }\n",
       "</style>\n",
       "<table border=\"1\" class=\"dataframe\">\n",
       "  <thead>\n",
       "    <tr style=\"text-align: right;\">\n",
       "      <th></th>\n",
       "      <th>Average Household Income</th>\n",
       "      <th>Median Age</th>\n",
       "      <th>Median Household Income</th>\n",
       "      <th>Neighborhood</th>\n",
       "      <th>Per Capita Income</th>\n",
       "      <th>Food Stores (SIC54)</th>\n",
       "      <th>Eating &amp; Drinking (SIC58)</th>\n",
       "      <th>Hotel/Lodging (SIC70)</th>\n",
       "      <th>Dominant Tapestry LifeMode Group Code</th>\n",
       "      <th>Dominant Tapestry LifeMode Group Name</th>\n",
       "      <th>Total Population</th>\n",
       "      <th>Buffer Distance</th>\n",
       "      <th>Buffer Units</th>\n",
       "    </tr>\n",
       "  </thead>\n",
       "  <tbody>\n",
       "    <tr>\n",
       "      <th>0</th>\n",
       "      <td>107120</td>\n",
       "      <td>45.0</td>\n",
       "      <td>73234</td>\n",
       "      <td>Timber</td>\n",
       "      <td>54059</td>\n",
       "      <td>1</td>\n",
       "      <td>1</td>\n",
       "      <td>1</td>\n",
       "      <td>5</td>\n",
       "      <td>GenXurban</td>\n",
       "      <td>1841</td>\n",
       "      <td>1</td>\n",
       "      <td>Kilometers</td>\n",
       "    </tr>\n",
       "    <tr>\n",
       "      <th>1</th>\n",
       "      <td>77663</td>\n",
       "      <td>28.3</td>\n",
       "      <td>53564</td>\n",
       "      <td>Veenker</td>\n",
       "      <td>34486</td>\n",
       "      <td>0</td>\n",
       "      <td>4</td>\n",
       "      <td>0</td>\n",
       "      <td>2</td>\n",
       "      <td>Upscale Avenues</td>\n",
       "      <td>3923</td>\n",
       "      <td>1</td>\n",
       "      <td>Kilometers</td>\n",
       "    </tr>\n",
       "    <tr>\n",
       "      <th>2</th>\n",
       "      <td>98860</td>\n",
       "      <td>40.0</td>\n",
       "      <td>75050</td>\n",
       "      <td>StoneBr</td>\n",
       "      <td>42476</td>\n",
       "      <td>2</td>\n",
       "      <td>5</td>\n",
       "      <td>0</td>\n",
       "      <td>4</td>\n",
       "      <td>Family Landscapes</td>\n",
       "      <td>3323</td>\n",
       "      <td>1</td>\n",
       "      <td>Kilometers</td>\n",
       "    </tr>\n",
       "    <tr>\n",
       "      <th>3</th>\n",
       "      <td>94082</td>\n",
       "      <td>34.4</td>\n",
       "      <td>81763</td>\n",
       "      <td>Somerst</td>\n",
       "      <td>39850</td>\n",
       "      <td>0</td>\n",
       "      <td>4</td>\n",
       "      <td>0</td>\n",
       "      <td>2</td>\n",
       "      <td>Upscale Avenues</td>\n",
       "      <td>4959</td>\n",
       "      <td>1</td>\n",
       "      <td>Kilometers</td>\n",
       "    </tr>\n",
       "    <tr>\n",
       "      <th>4</th>\n",
       "      <td>74934</td>\n",
       "      <td>29.7</td>\n",
       "      <td>58617</td>\n",
       "      <td>Sawyer</td>\n",
       "      <td>31749</td>\n",
       "      <td>0</td>\n",
       "      <td>1</td>\n",
       "      <td>0</td>\n",
       "      <td>5</td>\n",
       "      <td>GenXurban</td>\n",
       "      <td>3693</td>\n",
       "      <td>1</td>\n",
       "      <td>Kilometers</td>\n",
       "    </tr>\n",
       "  </tbody>\n",
       "</table>\n",
       "</div>"
      ],
      "text/plain": [
       "   Average Household Income  Median Age  Median Household Income Neighborhood  \\\n",
       "0                    107120        45.0                    73234       Timber   \n",
       "1                     77663        28.3                    53564      Veenker   \n",
       "2                     98860        40.0                    75050      StoneBr   \n",
       "3                     94082        34.4                    81763      Somerst   \n",
       "4                     74934        29.7                    58617       Sawyer   \n",
       "\n",
       "   Per Capita Income  Food Stores (SIC54)  Eating & Drinking (SIC58)  \\\n",
       "0              54059                    1                          1   \n",
       "1              34486                    0                          4   \n",
       "2              42476                    2                          5   \n",
       "3              39850                    0                          4   \n",
       "4              31749                    0                          1   \n",
       "\n",
       "   Hotel/Lodging (SIC70) Dominant Tapestry LifeMode Group Code  \\\n",
       "0                      1                                     5   \n",
       "1                      0                                     2   \n",
       "2                      0                                     4   \n",
       "3                      0                                     2   \n",
       "4                      0                                     5   \n",
       "\n",
       "  Dominant Tapestry LifeMode Group Name  Total Population  Buffer Distance  \\\n",
       "0                             GenXurban              1841                1   \n",
       "1                       Upscale Avenues              3923                1   \n",
       "2                     Family Landscapes              3323                1   \n",
       "3                       Upscale Avenues              4959                1   \n",
       "4                             GenXurban              3693                1   \n",
       "\n",
       "  Buffer Units  \n",
       "0   Kilometers  \n",
       "1   Kilometers  \n",
       "2   Kilometers  \n",
       "3   Kilometers  \n",
       "4   Kilometers  "
      ]
     },
     "execution_count": 83,
     "metadata": {},
     "output_type": "execute_result"
    }
   ],
   "source": [
    "\n",
    "#Lets change the name of the columns and clean the data\n",
    "AMES_enriched_df = AMES_enriched_df.drop(['HasData', 'ID', 'ID_1', 'OBJECTID', 'ENRICH_FID', 'aggregationMethod', 'areaType', 'bufferUnits', 'sourceCountry', 'SHAPE' ], axis=1)\n",
    "AMES_enriched_df = AMES_enriched_df.rename(index=str, columns={\"AVGHINC_CY\": \"Average Household Income\", \n",
    "                                                               \"MEDAGE_CY\": \"Median Age\",\n",
    "                                                               \"MEDHINC_CY\": \"Median Household Income\",\n",
    "                                                               \"PCI_CY\": \"Per Capita Income\",\n",
    "                                                               \"S12_BUS\": \"Food Stores (SIC54)\",\n",
    "                                                               \"S16_BUS\": \"Eating & Drinking (SIC58)\",\n",
    "                                                               \"S24_BUS\": \"Hotel/Lodging (SIC70)\",\n",
    "                                                               \"TLIFECODE\": \"Dominant Tapestry LifeMode Group Code\",\n",
    "                                                               \"TLIFENAME\": \"Dominant Tapestry LifeMode Group Name\",\n",
    "                                                               \"TOTPOP_CY\": \"Total Population\",\n",
    "                                                               \"bufferRadii\": \"Buffer Distance\",\n",
    "                                                               \"bufferUnitsAlias\": \"Buffer Units\" })\n",
    "\n",
    "#Just to check we have the right data and save it ot a new dataframe and CSV so we dont need to run everytime\n",
    "AMES_enriched_df.head(5)"
   ]
  },
  {
   "cell_type": "code",
   "execution_count": 85,
   "metadata": {},
   "outputs": [],
   "source": [
    "#Lets save the data in a CSV\n",
    "AMES_enriched_df.to_csv('Neighborhoods_enriched.csv')"
   ]
  },
  {
   "cell_type": "markdown",
   "metadata": {},
   "source": [
    "Last step is merge this data with our original data and save it to the original CSV"
   ]
  },
  {
   "cell_type": "code",
   "execution_count": 86,
   "metadata": {},
   "outputs": [],
   "source": [
    "#Merge data and export to our original file for train and test\n",
    "train_enriched = train.merge(AMES_enriched_df, on='Neighborhood')\n",
    "train_enriched.to_csv('train_enriched.csv')\n",
    "\n",
    "\n",
    "test_enriched = test.merge(AMES_enriched_df, on='Neighborhood')\n",
    "test_enriched.to_csv('test_enriched.csv')"
   ]
  },
  {
   "cell_type": "code",
   "execution_count": null,
   "metadata": {},
   "outputs": [],
   "source": []
  }
 ],
 "metadata": {
  "kernelspec": {
   "display_name": "Python 3",
   "language": "python",
   "name": "python3"
  },
  "language_info": {
   "codemirror_mode": {
    "name": "ipython",
    "version": 3
   },
   "file_extension": ".py",
   "mimetype": "text/x-python",
   "name": "python",
   "nbconvert_exporter": "python",
   "pygments_lexer": "ipython3",
   "version": "3.6.4"
  }
 },
 "nbformat": 4,
 "nbformat_minor": 2
}
