{
 "cells": [
  {
   "cell_type": "markdown",
   "metadata": {},
   "source": [
    "### Variables correlations"
   ]
  },
  {
   "cell_type": "code",
   "execution_count": 49,
   "metadata": {},
   "outputs": [],
   "source": [
    "#Libraries we will be using\n",
    "\n",
    "import pandas as pd\n",
    "import numpy as np\n",
    "import plotly\n",
    "import plotly.plotly as py\n",
    "from scipy import stats\n",
    "import numpy as np\n",
    "import seaborn as sb\n",
    "import matplotlib.pyplot as plt\n",
    "%matplotlib inline\n",
    "\n",
    "#Credentials for plotly\n",
    "plotly.tools.set_credentials_file(username='', api_key='')\n",
    "plotly.tools.set_config_file(world_readable=True,\n",
    "                             sharing='public')\n",
    "\n",
    "#Setting for pandas to show all columns\n",
    "pd.set_option('display.max_columns', None)"
   ]
  },
  {
   "cell_type": "code",
   "execution_count": 7,
   "metadata": {},
   "outputs": [
    {
     "name": "stdout",
     "output_type": "stream",
     "text": [
      "<class 'pandas.core.frame.DataFrame'>\n",
      "RangeIndex: 1460 entries, 0 to 1459\n",
      "Data columns (total 93 columns):\n",
      "Id                                       1460 non-null int64\n",
      "MSSubClass                               1460 non-null int64\n",
      "MSZoning                                 1460 non-null object\n",
      "LotFrontage                              1201 non-null float64\n",
      "LotArea                                  1460 non-null int64\n",
      "Street                                   1460 non-null object\n",
      "Alley                                    91 non-null object\n",
      "LotShape                                 1460 non-null object\n",
      "LandContour                              1460 non-null object\n",
      "Utilities                                1460 non-null object\n",
      "LotConfig                                1460 non-null object\n",
      "LandSlope                                1460 non-null object\n",
      "Neighborhood                             1460 non-null object\n",
      "Condition1                               1460 non-null object\n",
      "Condition2                               1460 non-null object\n",
      "BldgType                                 1460 non-null object\n",
      "HouseStyle                               1460 non-null object\n",
      "OverallQual                              1460 non-null int64\n",
      "OverallCond                              1460 non-null int64\n",
      "YearBuilt                                1460 non-null int64\n",
      "YearRemodAdd                             1460 non-null int64\n",
      "RoofStyle                                1460 non-null object\n",
      "RoofMatl                                 1460 non-null object\n",
      "Exterior1st                              1460 non-null object\n",
      "Exterior2nd                              1460 non-null object\n",
      "MasVnrType                               1452 non-null object\n",
      "MasVnrArea                               1452 non-null float64\n",
      "ExterQual                                1460 non-null object\n",
      "ExterCond                                1460 non-null object\n",
      "Foundation                               1460 non-null object\n",
      "BsmtQual                                 1423 non-null object\n",
      "BsmtCond                                 1423 non-null object\n",
      "BsmtExposure                             1422 non-null object\n",
      "BsmtFinType1                             1423 non-null object\n",
      "BsmtFinSF1                               1460 non-null int64\n",
      "BsmtFinType2                             1422 non-null object\n",
      "BsmtFinSF2                               1460 non-null int64\n",
      "BsmtUnfSF                                1460 non-null int64\n",
      "TotalBsmtSF                              1460 non-null int64\n",
      "Heating                                  1460 non-null object\n",
      "HeatingQC                                1460 non-null object\n",
      "CentralAir                               1460 non-null object\n",
      "Electrical                               1459 non-null object\n",
      "1stFlrSF                                 1460 non-null int64\n",
      "2ndFlrSF                                 1460 non-null int64\n",
      "LowQualFinSF                             1460 non-null int64\n",
      "GrLivArea                                1460 non-null int64\n",
      "BsmtFullBath                             1460 non-null int64\n",
      "BsmtHalfBath                             1460 non-null int64\n",
      "FullBath                                 1460 non-null int64\n",
      "HalfBath                                 1460 non-null int64\n",
      "BedroomAbvGr                             1460 non-null int64\n",
      "KitchenAbvGr                             1460 non-null int64\n",
      "KitchenQual                              1460 non-null object\n",
      "TotRmsAbvGrd                             1460 non-null int64\n",
      "Functional                               1460 non-null object\n",
      "Fireplaces                               1460 non-null int64\n",
      "FireplaceQu                              770 non-null object\n",
      "GarageType                               1379 non-null object\n",
      "GarageYrBlt                              1379 non-null float64\n",
      "GarageFinish                             1379 non-null object\n",
      "GarageCars                               1460 non-null int64\n",
      "GarageArea                               1460 non-null int64\n",
      "GarageQual                               1379 non-null object\n",
      "GarageCond                               1379 non-null object\n",
      "PavedDrive                               1460 non-null object\n",
      "WoodDeckSF                               1460 non-null int64\n",
      "OpenPorchSF                              1460 non-null int64\n",
      "EnclosedPorch                            1460 non-null int64\n",
      "3SsnPorch                                1460 non-null int64\n",
      "ScreenPorch                              1460 non-null int64\n",
      "PoolArea                                 1460 non-null int64\n",
      "PoolQC                                   7 non-null object\n",
      "Fence                                    281 non-null object\n",
      "MiscFeature                              54 non-null object\n",
      "MiscVal                                  1460 non-null int64\n",
      "MoSold                                   1460 non-null int64\n",
      "YrSold                                   1460 non-null int64\n",
      "SaleType                                 1460 non-null object\n",
      "SaleCondition                            1460 non-null object\n",
      "SalePrice                                1460 non-null int64\n",
      "Average Household Income                 1460 non-null int64\n",
      "Median Age                               1460 non-null float64\n",
      "Median Household Income                  1460 non-null int64\n",
      "Per Capita Income                        1460 non-null int64\n",
      "Food Stores (SIC54)                      1460 non-null int64\n",
      "Eating & Drinking (SIC58)                1460 non-null int64\n",
      "Hotel/Lodging (SIC70)                    1460 non-null int64\n",
      "Dominant Tapestry LifeMode Group Code    1460 non-null int64\n",
      "Dominant Tapestry LifeMode Group Name    1460 non-null object\n",
      "Total Population                         1460 non-null int64\n",
      "Buffer Distance                          1460 non-null int64\n",
      "Buffer Units                             1460 non-null object\n",
      "dtypes: float64(4), int64(44), object(45)\n",
      "memory usage: 1.0+ MB\n"
     ]
    }
   ],
   "source": [
    "#import and read the train data\n",
    "\n",
    "train = pd.read_csv('train_enriched.csv')\n",
    "\n",
    "train.info()\n",
    "\n"
   ]
  },
  {
   "cell_type": "markdown",
   "metadata": {},
   "source": [
    "Correlation between Sale Price and all variables"
   ]
  },
  {
   "cell_type": "code",
   "execution_count": 74,
   "metadata": {},
   "outputs": [
    {
     "data": {
      "text/plain": [
       "SalePrice                                1.000000\n",
       "OverallQual                              0.790982\n",
       "GrLivArea                                0.708624\n",
       "GarageCars                               0.640409\n",
       "GarageArea                               0.623431\n",
       "TotalBsmtSF                              0.613581\n",
       "1stFlrSF                                 0.605852\n",
       "FullBath                                 0.560664\n",
       "TotRmsAbvGrd                             0.533723\n",
       "YearBuilt                                0.522897\n",
       "YearRemodAdd                             0.507101\n",
       "GarageYrBlt                              0.486362\n",
       "MasVnrArea                               0.477493\n",
       "Fireplaces                               0.466929\n",
       "Median Household Income                  0.420421\n",
       "Average Household Income                 0.419396\n",
       "BsmtFinSF1                               0.386420\n",
       "LotFrontage                              0.351799\n",
       "Per Capita Income                        0.346627\n",
       "WoodDeckSF                               0.324413\n",
       "2ndFlrSF                                 0.319334\n",
       "OpenPorchSF                              0.315856\n",
       "HalfBath                                 0.284108\n",
       "LotArea                                  0.263843\n",
       "BsmtFullBath                             0.227122\n",
       "BsmtUnfSF                                0.214479\n",
       "BedroomAbvGr                             0.168213\n",
       "Median Age                               0.113955\n",
       "ScreenPorch                              0.111447\n",
       "PoolArea                                 0.092404\n",
       "MoSold                                   0.046432\n",
       "3SsnPorch                                0.044584\n",
       "BsmtFinSF2                              -0.011378\n",
       "BsmtHalfBath                            -0.016844\n",
       "MiscVal                                 -0.021190\n",
       "Id                                      -0.021917\n",
       "LowQualFinSF                            -0.025606\n",
       "YrSold                                  -0.028923\n",
       "OverallCond                             -0.077856\n",
       "MSSubClass                              -0.084284\n",
       "EnclosedPorch                           -0.128578\n",
       "KitchenAbvGr                            -0.135907\n",
       "Hotel/Lodging (SIC70)                   -0.184683\n",
       "Dominant Tapestry LifeMode Group Code   -0.194129\n",
       "Total Population                        -0.196739\n",
       "Eating & Drinking (SIC58)               -0.300376\n",
       "Food Stores (SIC54)                     -0.373752\n",
       "Buffer Distance                               NaN\n",
       "Name: SalePrice, dtype: float64"
      ]
     },
     "execution_count": 74,
     "metadata": {},
     "output_type": "execute_result"
    }
   ],
   "source": [
    "#we use the corr function for only the numneric features\n",
    "\n",
    "train_numeric = train._get_numeric_data() #keep only numeric features\n",
    "corr_matrix = train_numeric.corr()\n",
    "corr_matrix['SalePrice'].sort_values(ascending=False)\n",
    "\n"
   ]
  },
  {
   "cell_type": "code",
   "execution_count": 76,
   "metadata": {},
   "outputs": [
    {
     "data": {
      "text/plain": [
       "<matplotlib.axes._subplots.AxesSubplot at 0x18ebd3f8860>"
      ]
     },
     "execution_count": 76,
     "metadata": {},
     "output_type": "execute_result"
    },
    {
     "data": {
      "image/png": "[encoded data removed]",
      "text/plain": [
       "<matplotlib.figure.Figure at 0x18ebd3f8be0>"
      ]
     },
     "metadata": {},
     "output_type": "display_data"
    }
   ],
   "source": [
    "plt.figure(figsize=(18,6))\n",
    "corr_matrix['SalePrice'].sort_values(ascending=False).plot.bar()"
   ]
  },
  {
   "cell_type": "markdown",
   "metadata": {},
   "source": [
    "**Variables that Initially I considered important**"
   ]
  },
  {
   "cell_type": "code",
   "execution_count": null,
   "metadata": {},
   "outputs": [],
   "source": [
    "Neighborhood\n",
    "BldgType\n",
    "OverallQual\n",
    "OverallCond\n",
    "YearBuilt\n",
    "YearRemodAdd\n",
    "TotalBsmtSF\n",
    "HeatingQC\n",
    "CentralAir\n",
    "GrLivArea\n",
    "Bedroom\n",
    "GarageCars\n",
    "GarageArea\n",
    "PoolArea\n",
    "PoolQC\n",
    "YrSold\n",
    "SaleCondition\n"
   ]
  },
  {
   "cell_type": "markdown",
   "metadata": {},
   "source": [
    "### PCA to reduce the number of variables to choose"
   ]
  },
  {
   "cell_type": "markdown",
   "metadata": {},
   "source": [
    "**PCA Preprocessing**\n",
    "\n",
    "- Only numeric data\n",
    "- NaNs not accepted\n",
    "\n",
    "**PCA Steps**\n",
    "- Standardize the data.\n",
    "- Use the standardized data to create a covariance matrix.\n",
    "- Use the resulting matrix to calculate eigenvectors (principal components) and their corresponding eigenvalues.\n",
    "- Sort the components in decending order by its eigenvalue.\n",
    "- Choose n components which explain the most variance within the data (larger eigenvalue means the feature explains more variance).\n",
    "- Create a new matrix using the n components."
   ]
  },
  {
   "cell_type": "code",
   "execution_count": 61,
   "metadata": {},
   "outputs": [
    {
     "name": "stdout",
     "output_type": "stream",
     "text": [
      "(1460, 48)\n",
      "(1121, 48)\n"
     ]
    }
   ],
   "source": [
    "#We keep only  numeric values\n",
    "\n",
    "train_numeric = train._get_numeric_data() #keep only numeric features\n",
    "\n",
    "#train_numeric.info()\n",
    "\n",
    "print(train_numeric.shape)\n",
    "\n",
    "#We also need to take care of the NAs in order to be able to run the PCA algorithm\n",
    "\n",
    "train_numeric = train_numeric.dropna()\n",
    "\n",
    "print(train_numeric.shape)\n",
    "\n",
    "#Drop in datasets is quite big! so we will need to deal with the NAs\n"
   ]
  },
  {
   "cell_type": "code",
   "execution_count": 72,
   "metadata": {},
   "outputs": [],
   "source": [
    "#Standardize the data.\n",
    "\n",
    "from sklearn.preprocessing import StandardScaler\n",
    "scaler = StandardScaler()\n",
    "\n",
    "# Fit on training set only.\n",
    "scaler.fit(train_numeric)\n",
    "\n",
    "# Apply transform to both the training set and the test set.\n",
    "train_PCA = scaler.transform(train_numeric)"
   ]
  },
  {
   "cell_type": "code",
   "execution_count": 77,
   "metadata": {
    "scrolled": true
   },
   "outputs": [
    {
     "name": "stdout",
     "output_type": "stream",
     "text": [
      "30\n",
      "30\n",
      "[0.2182498  0.09669401 0.06629432 0.05523677 0.04626051 0.0354434\n",
      " 0.03262229 0.02682357 0.02596319 0.02435296 0.02382426 0.02337178\n",
      " 0.02277219 0.02207311 0.02022994 0.01985442 0.0193473  0.01798738\n",
      " 0.01725302 0.01686854 0.01641368 0.01575423 0.01391523 0.01367897\n",
      " 0.01267558 0.01140242 0.00999901 0.00964804 0.00835905 0.00803499]\n",
      "[21.82497994 31.49438133 38.12381362 43.64749107 48.27354249 51.81788247\n",
      " 55.08011118 57.76246794 60.35878705 62.7940835  65.17650983 67.51368821\n",
      " 69.79090752 71.99821812 74.02121165 76.00665327 77.94138294 79.74012136\n",
      " 81.46542303 83.15227715 84.79364473 86.36906777 87.76059065 89.12848777\n",
      " 90.39604575 91.53628753 92.53618899 93.50099269 94.33689817 95.14039695]\n"
     ]
    },
    {
     "data": {
      "text/plain": [
       "[<matplotlib.lines.Line2D at 0x18ebb5e97f0>]"
      ]
     },
     "execution_count": 77,
     "metadata": {},
     "output_type": "execute_result"
    },
    {
     "data": {
      "image/png": "[encoded data removed]",
      "text/plain": [
       "<matplotlib.figure.Figure at 0x18ebd494908>"
      ]
     },
     "metadata": {},
     "output_type": "display_data"
    }
   ],
   "source": [
    "from  sklearn.decomposition import PCA\n",
    "\n",
    "#Calculate the PCA so the selected variables explain at least 90% of the variance of our model 0.90\n",
    "pca = PCA(0.95)\n",
    "\n",
    "#Fit PCA on training set.\n",
    "pca.fit(train_PCA)\n",
    "\n",
    "#\n",
    "print(pca.n_components_)\n",
    "print(pca.n_components_)\n",
    "\n",
    "\n",
    "#Apply the mapping (transform) to both the training set and the test set.\n",
    "train_PCA = pca.transform(train_PCA)\n",
    "\n",
    "#which is the variance ratio of each component?\n",
    "print(pca.explained_variance_ratio_)\n",
    "\n",
    "#and the total cumulutative\n",
    "cumsum = np.cumsum(pca.explained_variance_ratio_*100)\n",
    "print(cumsum) # we see reaches 90%\n",
    "\n",
    "#which variables were actually selected?\n",
    "\n",
    "\n",
    "#lets see this graphically\n",
    "plt.ylabel('% Variance Explained')\n",
    "plt.xlabel('# of Features')\n",
    "plt.title('PCA Analysis')\n",
    "plt.xlim(0,50)\n",
    "plt.ylim(0,100)\n",
    "plt.style.context('seaborn-whitegrid')\n",
    "plt.plot(cumsum)"
   ]
  }
 ],
 "metadata": {
  "kernelspec": {
   "display_name": "Python 3",
   "language": "python",
   "name": "python3"
  },
  "language_info": {
   "codemirror_mode": {
    "name": "ipython",
    "version": 3
   },
   "file_extension": ".py",
   "mimetype": "text/x-python",
   "name": "python",
   "nbconvert_exporter": "python",
   "pygments_lexer": "ipython3",
   "version": "3.6.4"
  }
 },
 "nbformat": 4,
 "nbformat_minor": 2
}
